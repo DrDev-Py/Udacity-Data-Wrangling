{
 "cells": [
  {
   "cell_type": "markdown",
   "metadata": {},
   "source": [
    "## Report: act_report\n",
    "* Create a **250-word-minimum written report** called \"act_report.pdf\" or \"act_report.html\" that communicates the insights and displays the visualization(s) produced from your wrangled data. This is to be framed as an external document, like a blog post or magazine article, for example."
   ]
  },
  {
   "cell_type": "markdown",
   "metadata": {},
   "source": [
    "# INSIGHTS"
   ]
  },
  {
   "cell_type": "markdown",
   "metadata": {},
   "source": [
    "### 1:\n",
    "There are 4 known __dog stages__ for the dogs in the dataset. Of all the Known stages in their other of increasing occurrence\n",
    "> * floofer\n",
    "> * puppo\n",
    "> * doggo\n",
    "> * pupper"
   ]
  },
  {
   "cell_type": "markdown",
   "metadata": {},
   "source": [
    "![Dog Stages](Images/dog_stages.png)"
   ]
  },
  {
   "cell_type": "markdown",
   "metadata": {},
   "source": [
    "### 2:\n",
    "There are 3 predictions of the neural network, from investigating the dataset, some of the dog images were not predicted as a dog at all, __which of the predictions were able to correctly classify the images as dogs?__\n",
    "\n",
    "> \n",
    "\n",
    "__The second most likely prediction of the neural network was the one to correctly classify the image as a dog.__ Although the differences in performance is minimal as in the visualization below.\n",
    "\n",
    "> * p2(second most likely prediction) classified about 1472 of the samples as dogs\n",
    ">* p1 (most likely prediction) classified 1458 samples as dogs\n",
    ">* while p2_dog classified 1423 samples as dogs\n",
    "\n",
    "> * __The differences may not be statistically significant as no statistical tests were conducted__"
   ]
  },
  {
   "cell_type": "markdown",
   "metadata": {},
   "source": [
    "#### Predictions of the Neural Networks\n",
    "\n",
    "![Image Predictions](Images/predictions.png)"
   ]
  },
  {
   "cell_type": "markdown",
   "metadata": {},
   "source": [
    "### 3:\n",
    "The most common rating is __12/10__ with about __460__ samples, then followed by __10/10__ and __11/10__ respectively"
   ]
  },
  {
   "cell_type": "markdown",
   "metadata": {},
   "source": [
    "#### Ratings of Dogs\n",
    "![Ratings](Images/top_ratings.png)"
   ]
  },
  {
   "cell_type": "markdown",
   "metadata": {},
   "source": [
    "### 4:\n",
    "The Dogs in the __Pupper__ stages have the highest favourite and retweet count, followed by  __doggo__, then  __puppo__ and lastly the dogs in the __floofer__ stages have the least favorite and retweet counts.\n",
    "\n",
    ">* There is a significant difference in the favorite and retweet counts of the tweets."
   ]
  },
  {
   "cell_type": "markdown",
   "metadata": {},
   "source": [
    "#### The bar chart on the left shows the number of retweets while on the right is number favorites\n",
    "![Retweets and Favourites](Images/retweetfavs.png)"
   ]
  },
  {
   "cell_type": "markdown",
   "metadata": {},
   "source": [
    "The tweets have a significantly higher favorites than retweets, there seems to be a direct correlation between the two. The __Correlation between the number of retweets__ and the __number of favorites__ is confirmed in this correlation matrix.\n",
    "\n",
    "There is a very __high and positive__ correlation between the number of retweets and number of favourites"
   ]
  },
  {
   "cell_type": "markdown",
   "metadata": {},
   "source": [
    "![Correlation Matrix](Images/retfavscorr.png)"
   ]
  }
 ],
 "metadata": {
  "kernelspec": {
   "display_name": "Python 3",
   "language": "python",
   "name": "python3"
  },
  "language_info": {
   "codemirror_mode": {
    "name": "ipython",
    "version": 3
   },
   "file_extension": ".py",
   "mimetype": "text/x-python",
   "name": "python",
   "nbconvert_exporter": "python",
   "pygments_lexer": "ipython3",
   "version": "3.8.5"
  }
 },
 "nbformat": 4,
 "nbformat_minor": 2
}
